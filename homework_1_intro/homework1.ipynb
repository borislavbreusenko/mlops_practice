{
 "cells": [
  {
   "cell_type": "code",
   "execution_count": 1,
   "id": "usual-recipient",
   "metadata": {},
   "outputs": [],
   "source": [
    "import pandas as pd\n",
    "import matplotlib.pyplot as plt\n",
    "from sklearn.linear_model import LinearRegression\n",
    "from sklearn.feature_extraction import DictVectorizer\n",
    "from sklearn.metrics import mean_squared_error"
   ]
  },
  {
   "cell_type": "markdown",
   "id": "japanese-cannon",
   "metadata": {},
   "source": [
    "## Q1. Downloading the data\n",
    "\n",
    "We'll use [the same NYC taxi dataset](https://www1.nyc.gov/site/tlc/about/tlc-trip-record-data.page),\n",
    "but instead of \"Green Taxi Trip Records\", we'll use \"For-Hire Vehicle Trip Records\" \n",
    "\n",
    "Download the data for January and February 2021\n",
    "\n",
    "Note that you need \"For-Hire Vehicle Trip Records\", not \"High Volume For-Hire Vehicle Trip Records\"."
   ]
  },
  {
   "cell_type": "code",
   "execution_count": null,
   "id": "affecting-comfort",
   "metadata": {},
   "outputs": [],
   "source": [
    "df_jan = pd.read_parquet('https://nyc-tlc.s3.amazonaws.com/trip+data/fhv_tripdata_2021-01.parquet')"
   ]
  },
  {
   "cell_type": "code",
   "execution_count": null,
   "id": "arabic-separation",
   "metadata": {},
   "outputs": [],
   "source": [
    "df_jan.shape"
   ]
  },
  {
   "cell_type": "markdown",
   "id": "uniform-energy",
   "metadata": {},
   "source": [
    "Read the data for January. How many records are there?\n",
    "\n",
    "* 1054112\n",
    "* **1154112(+)**\n",
    "* 1254112\n",
    "* 1354112"
   ]
  },
  {
   "cell_type": "markdown",
   "id": "timely-binary",
   "metadata": {},
   "source": [
    "## Q2. Computing duration\n",
    "\n",
    "Now let's compute the `duration` variable. It should contain the duration of a ride in minutes. "
   ]
  },
  {
   "cell_type": "code",
   "execution_count": 5,
   "id": "respective-participation",
   "metadata": {},
   "outputs": [],
   "source": [
    "duration = pd.to_datetime(df_jan['dropOff_datetime']) - pd.to_datetime(df_jan['pickup_datetime'])\n",
    "duration = duration.apply(lambda x: x.total_seconds() / 60)"
   ]
  },
  {
   "cell_type": "code",
   "execution_count": 6,
   "id": "tribal-exploration",
   "metadata": {},
   "outputs": [
    {
     "data": {
      "text/plain": [
       "19.167224093791006"
      ]
     },
     "execution_count": 6,
     "metadata": {},
     "output_type": "execute_result"
    }
   ],
   "source": [
    "duration.mean()"
   ]
  },
  {
   "cell_type": "markdown",
   "id": "initial-benjamin",
   "metadata": {},
   "source": [
    "What's the average trip duration in January?\n",
    "\n",
    "* 15.16\n",
    "* **19.16(+)**\n",
    "* 24.16\n",
    "* 29.16"
   ]
  },
  {
   "cell_type": "markdown",
   "id": "maritime-blues",
   "metadata": {},
   "source": [
    "## Data preparation\n",
    "\n",
    "Check the distribution of the duration variable. There are some outliners. \n",
    "\n",
    "Let's remove them and keep only the records where the duration was between 1 and 60 minutes (inclusive)."
   ]
  },
  {
   "cell_type": "code",
   "execution_count": 7,
   "id": "irish-chambers",
   "metadata": {},
   "outputs": [
    {
     "data": {
      "image/png": "[encoded data removed]",
      "text/plain": [
       "<Figure size 432x288 with 1 Axes>"
      ]
     },
     "metadata": {
      "needs_background": "light"
     },
     "output_type": "display_data"
    }
   ],
   "source": [
    "plt.hist(duration, bins=100)\n",
    "plt.grid()"
   ]
  },
  {
   "cell_type": "code",
   "execution_count": 8,
   "id": "working-citizenship",
   "metadata": {},
   "outputs": [],
   "source": [
    "target_mask = (duration >= 1) & (duration <= 60)\n",
    "duration_clip = duration.loc[target_mask]\n",
    "df_jan = df_jan.loc[target_mask]"
   ]
  },
  {
   "cell_type": "code",
   "execution_count": 9,
   "id": "meaning-label",
   "metadata": {},
   "outputs": [
    {
     "data": {
      "image/png": "[encoded data removed]",
      "text/plain": [
       "<Figure size 432x288 with 1 Axes>"
      ]
     },
     "metadata": {
      "needs_background": "light"
     },
     "output_type": "display_data"
    }
   ],
   "source": [
    "plt.hist(duration_clip, bins=100)\n",
    "plt.grid()"
   ]
  },
  {
   "cell_type": "code",
   "execution_count": 10,
   "id": "super-kansas",
   "metadata": {},
   "outputs": [
    {
     "data": {
      "text/plain": [
       "44286"
      ]
     },
     "execution_count": 10,
     "metadata": {},
     "output_type": "execute_result"
    }
   ],
   "source": [
    "duration.shape[0] - duration_clip.shape[0]"
   ]
  },
  {
   "cell_type": "markdown",
   "id": "breathing-style",
   "metadata": {},
   "source": [
    "How many records did you drop? \n",
    "- 44286"
   ]
  },
  {
   "cell_type": "markdown",
   "id": "structured-candle",
   "metadata": {},
   "source": [
    "## Q3. Missing values\n",
    "\n",
    "The features we'll user for our model are the pickup and dropoff location IDs. \n",
    "\n",
    "But they have a lot of missing values there. Let's replace them with \"-1\""
   ]
  },
  {
   "cell_type": "code",
   "execution_count": 11,
   "id": "modern-princess",
   "metadata": {},
   "outputs": [
    {
     "data": {
      "text/plain": [
       "True     0.835273\n",
       "False    0.164727\n",
       "Name: PUlocationID, dtype: float64"
      ]
     },
     "execution_count": 11,
     "metadata": {},
     "output_type": "execute_result"
    }
   ],
   "source": [
    "df_jan['PUlocationID'].isna().value_counts(normalize=True)"
   ]
  },
  {
   "cell_type": "markdown",
   "id": "basic-diana",
   "metadata": {},
   "source": [
    "What's the factions of missing values for the pickup location ID? (Or the fraction of \"-1\"s after you filled the NAs)\n",
    "\n",
    "* 53%\n",
    "* 63%\n",
    "* 73%\n",
    "* **83%(+)**"
   ]
  },
  {
   "cell_type": "code",
   "execution_count": 12,
   "id": "bacterial-camera",
   "metadata": {},
   "outputs": [],
   "source": [
    "df_jan['PUlocationID'] = df_jan['PUlocationID'].fillna(-1)\n",
    "df_jan['DOlocationID'] = df_jan['DOlocationID'].fillna(-1)"
   ]
  },
  {
   "cell_type": "markdown",
   "id": "former-tennessee",
   "metadata": {},
   "source": [
    "## Q4. One-hot encoding\n",
    "\n",
    "Let's apply one-hot encoding to the pickup and dropoff location IDs. We'll use only these two features for our model. \n",
    "\n",
    "* Turn the dataframe into a list of dictionaries\n",
    "* Fit a dictionary vectorizer \n",
    "* Get a feature matrix from it"
   ]
  },
  {
   "cell_type": "code",
   "execution_count": 13,
   "id": "foreign-grade",
   "metadata": {},
   "outputs": [],
   "source": [
    "columns = ['PUlocationID', 'DOlocationID']\n",
    "jan_dict = df_jan[columns].astype(str).to_dict(orient='records')\n",
    "\n",
    "dv = DictVectorizer()\n",
    "jan_sparse = dv.fit_transform(jan_dict)"
   ]
  },
  {
   "cell_type": "code",
   "execution_count": 14,
   "id": "swiss-department",
   "metadata": {},
   "outputs": [
    {
     "data": {
      "text/plain": [
       "<1109826x525 sparse matrix of type '<class 'numpy.float64'>'\n",
       "\twith 2219652 stored elements in Compressed Sparse Row format>"
      ]
     },
     "execution_count": 14,
     "metadata": {},
     "output_type": "execute_result"
    }
   ],
   "source": [
    "jan_sparse"
   ]
  },
  {
   "cell_type": "markdown",
   "id": "stainless-flooring",
   "metadata": {},
   "source": [
    "What's the dimensionality of this matrix? (The number of columns)\n",
    "\n",
    "* 2\n",
    "* 152\n",
    "* 352\n",
    "* **525(+)**\n",
    "* 725"
   ]
  },
  {
   "cell_type": "markdown",
   "id": "surrounded-reducing",
   "metadata": {},
   "source": [
    "## Q5. Training a model\n",
    "\n",
    "Now let's use the feature matrix from the previous step to train a model. \n",
    "\n",
    "* Train a plain linear regression model with default parameters \n",
    "* Calculate the RMSE of the model on the training data"
   ]
  },
  {
   "cell_type": "code",
   "execution_count": 15,
   "id": "subtle-commitment",
   "metadata": {},
   "outputs": [],
   "source": [
    "X_train = jan_sparse\n",
    "y_train = duration_clip\n",
    "\n",
    "lr = LinearRegression()\n",
    "lr.fit(X_train, y_train)\n",
    "\n",
    "preds = lr.predict(X_train)\n",
    "score = mean_squared_error(y_train, preds, squared=False)"
   ]
  },
  {
   "cell_type": "code",
   "execution_count": 16,
   "id": "killing-basis",
   "metadata": {},
   "outputs": [
    {
     "data": {
      "text/plain": [
       "10.528519107210952"
      ]
     },
     "execution_count": 16,
     "metadata": {},
     "output_type": "execute_result"
    }
   ],
   "source": [
    "score"
   ]
  },
  {
   "cell_type": "markdown",
   "id": "ambient-drain",
   "metadata": {},
   "source": [
    "What's the RMSE on train?\n",
    "\n",
    "* 5.52\n",
    "* **10.52(+)**\n",
    "* 15.52\n",
    "* 20.52"
   ]
  },
  {
   "cell_type": "markdown",
   "id": "connected-narrow",
   "metadata": {},
   "source": [
    "## Q6. Evaluating the model\n",
    "\n",
    "Now let's apply this model to the validation dataset (Feb 2021). "
   ]
  },
  {
   "cell_type": "code",
   "execution_count": 24,
   "id": "corresponding-liechtenstein",
   "metadata": {},
   "outputs": [],
   "source": [
    "df_feb = pd.read_parquet('https://nyc-tlc.s3.amazonaws.com/trip+data/fhv_tripdata_2021-02.parquet')"
   ]
  },
  {
   "cell_type": "code",
   "execution_count": 25,
   "id": "sound-advisory",
   "metadata": {},
   "outputs": [],
   "source": [
    "duration_feb = pd.to_datetime(df_feb['dropOff_datetime']) - pd.to_datetime(df_feb['pickup_datetime'])\n",
    "duration_feb = duration_feb.apply(lambda x: x.total_seconds() / 60)"
   ]
  },
  {
   "cell_type": "code",
   "execution_count": 27,
   "id": "selective-rachel",
   "metadata": {},
   "outputs": [],
   "source": [
    "df_feb['PUlocationID'] = df_feb['PUlocationID'].fillna(-1)\n",
    "df_feb['DOlocationID'] = df_feb['DOlocationID'].fillna(-1)"
   ]
  },
  {
   "cell_type": "code",
   "execution_count": 32,
   "id": "fixed-worse",
   "metadata": {},
   "outputs": [],
   "source": [
    "target_mask_val = (duration_feb >= 1) & (duration_feb <= 60)\n",
    "duration_feb = duration_feb.loc[target_mask_val]\n",
    "df_feb = df_feb.loc[target_mask_val]"
   ]
  },
  {
   "cell_type": "code",
   "execution_count": 33,
   "id": "hungry-dressing",
   "metadata": {},
   "outputs": [],
   "source": [
    "feb_sparse = dv.transform(df_feb[columns].astype(str).to_dict(orient='records'))\n",
    "\n",
    "X_val = feb_sparse\n",
    "y_val = duration_feb"
   ]
  },
  {
   "cell_type": "code",
   "execution_count": 34,
   "id": "premium-mobility",
   "metadata": {},
   "outputs": [
    {
     "data": {
      "text/plain": [
       "<990113x525 sparse matrix of type '<class 'numpy.float64'>'\n",
       "\twith 1980223 stored elements in Compressed Sparse Row format>"
      ]
     },
     "execution_count": 34,
     "metadata": {},
     "output_type": "execute_result"
    }
   ],
   "source": [
    "X_val"
   ]
  },
  {
   "cell_type": "code",
   "execution_count": 35,
   "id": "macro-quantum",
   "metadata": {},
   "outputs": [
    {
     "data": {
      "text/plain": [
       "(990113,)"
      ]
     },
     "execution_count": 35,
     "metadata": {},
     "output_type": "execute_result"
    }
   ],
   "source": [
    "y_val.shape"
   ]
  },
  {
   "cell_type": "code",
   "execution_count": 36,
   "id": "awful-wagner",
   "metadata": {},
   "outputs": [
    {
     "data": {
      "text/plain": [
       "11.014283179608368"
      ]
     },
     "execution_count": 36,
     "metadata": {},
     "output_type": "execute_result"
    }
   ],
   "source": [
    "val_preds = lr.predict(X_val)\n",
    "val_score = mean_squared_error(y_val, val_preds, squared=False)\n",
    "val_score"
   ]
  },
  {
   "cell_type": "markdown",
   "id": "clear-external",
   "metadata": {},
   "source": [
    "What's the RMSE on validation?\n",
    "\n",
    "* 6.01\n",
    "* **11.01(+)**\n",
    "* 16.01\n",
    "* 21.01"
   ]
  },
  {
   "cell_type": "markdown",
   "id": "regional-archives",
   "metadata": {},
   "source": [
    "## Submit the results\n",
    "\n",
    "Submit your results here: https://forms.gle/V8q5rv7QRoZ13Sft6\n",
    "\n",
    "It's possible that your answers won't match exactly. If it's the case, select the closest one."
   ]
  },
  {
   "cell_type": "code",
   "execution_count": null,
   "id": "parental-comedy",
   "metadata": {},
   "outputs": [],
   "source": []
  }
 ],
 "metadata": {
  "kernelspec": {
   "display_name": "Python 3",
   "language": "python",
   "name": "python3"
  },
  "language_info": {
   "codemirror_mode": {
    "name": "ipython",
    "version": 3
   },
   "file_extension": ".py",
   "mimetype": "text/x-python",
   "name": "python",
   "nbconvert_exporter": "python",
   "pygments_lexer": "ipython3",
   "version": "3.9.1"
  }
 },
 "nbformat": 4,
 "nbformat_minor": 5
}
